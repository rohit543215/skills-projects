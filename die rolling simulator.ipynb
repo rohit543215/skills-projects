{
 "cells": [
  {
   "cell_type": "code",
   "execution_count": 2,
   "id": "2cb053ba-6b8e-4d63-9572-19d64b1e5009",
   "metadata": {
    "tags": []
   },
   "outputs": [],
   "source": [
    "import random\n"
   ]
  },
  {
   "cell_type": "code",
   "execution_count": 9,
   "id": "2915e3ae-359d-45cf-bff8-02c1726c8f14",
   "metadata": {
    "tags": []
   },
   "outputs": [
    {
     "name": "stdin",
     "output_type": "stream",
     "text": [
      "press y to roll the dice or n to exit: y\n"
     ]
    },
    {
     "name": "stdout",
     "output_type": "stream",
     "text": [
      "[-----]\n",
      "[-----]\n",
      "[--6--]\n",
      "[-----]\n",
      "[-----]\n"
     ]
    },
    {
     "name": "stdin",
     "output_type": "stream",
     "text": [
      "press y to roll the dice or n to exit: y\n"
     ]
    },
    {
     "name": "stdout",
     "output_type": "stream",
     "text": [
      "[-----]\n",
      "[-----]\n",
      "[--5--]\n",
      "[-----]\n",
      "[-----]\n"
     ]
    },
    {
     "name": "stdin",
     "output_type": "stream",
     "text": [
      "press y to roll the dice or n to exit: y\n"
     ]
    },
    {
     "name": "stdout",
     "output_type": "stream",
     "text": [
      "[-----]\n",
      "[-----]\n",
      "[--6--]\n",
      "[-----]\n",
      "[-----]\n"
     ]
    },
    {
     "name": "stdin",
     "output_type": "stream",
     "text": [
      "press y to roll the dice or n to exit: n\n"
     ]
    }
   ],
   "source": [
    "ui=input(\"press y to roll the dice or n to exit:\")\n",
    "\n",
    "while (ui==\"y\"):\n",
    "  n=random.randint(1,6)\n",
    "\n",
    "  if n==1:\n",
    "    print(\"[-----]\")\n",
    "    print(\"[-----]\")\n",
    "    print(\"[--1--]\")\n",
    "    print(\"[-----]\")\n",
    "    print(\"[-----]\")  \n",
    "    \n",
    "    \n",
    "  if n==2:\n",
    "    print(\"[-----]\")\n",
    "    print(\"[-----]\")\n",
    "    print(\"[--2--]\")\n",
    "    print(\"[-----]\")\n",
    "    print(\"[-----]\")  \n",
    "    \n",
    "  \n",
    "  if n==3:\n",
    "    print(\"[-----]\")\n",
    "    print(\"[-----]\")\n",
    "    print(\"[--3--]\")\n",
    "    print(\"[-----]\")\n",
    "    print(\"[-----]\") \n",
    "    \n",
    "    \n",
    "  if n==4:\n",
    "    print(\"[-----]\")\n",
    "    print(\"[-----]\")\n",
    "    print(\"[--4--]\")\n",
    "    print(\"[-----]\")\n",
    "    print(\"[-----]\") \n",
    "    \n",
    "   \n",
    "  if n==5:\n",
    "    print(\"[-----]\")\n",
    "    print(\"[-----]\")\n",
    "    print(\"[--5--]\")\n",
    "    print(\"[-----]\")\n",
    "    print(\"[-----]\")  \n",
    "    \n",
    "    \n",
    "  if n==6:\n",
    "    print(\"[-----]\")\n",
    "    print(\"[-----]\")\n",
    "    print(\"[--6--]\")\n",
    "    print(\"[-----]\")\n",
    "    print(\"[-----]\")  \n",
    "    \n",
    "  ui=input(\"press y to roll the dice or n to exit:\")\n",
    "  \n",
    "                "
   ]
  },
  {
   "cell_type": "code",
   "execution_count": null,
   "id": "baa4d5d1-2f09-45e8-ae53-7397376e7cf4",
   "metadata": {
    "tags": []
   },
   "outputs": [],
   "source": []
  },
  {
   "cell_type": "code",
   "execution_count": null,
   "id": "74229df7-2747-4a07-bc17-c8755a0f2b7f",
   "metadata": {},
   "outputs": [],
   "source": []
  }
 ],
 "metadata": {
  "kernelspec": {
   "display_name": "Python 3 (ipykernel)",
   "language": "python",
   "name": "python3"
  },
  "language_info": {
   "codemirror_mode": {
    "name": "ipython",
    "version": 3
   },
   "file_extension": ".py",
   "mimetype": "text/x-python",
   "name": "python",
   "nbconvert_exporter": "python",
   "pygments_lexer": "ipython3",
   "version": "3.11.5"
  }
 },
 "nbformat": 4,
 "nbformat_minor": 5
}
