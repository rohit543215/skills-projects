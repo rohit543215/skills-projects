{
 "cells": [
  {
   "cell_type": "code",
   "execution_count": 8,
   "id": "68218fb5-5511-4196-ad44-b5b3fa6d5432",
   "metadata": {
    "tags": []
   },
   "outputs": [],
   "source": [
    "import random"
   ]
  },
  {
   "cell_type": "code",
   "execution_count": 1,
   "id": "c344a4b5-e62c-4f9e-87ef-459311401f74",
   "metadata": {
    "tags": []
   },
   "outputs": [],
   "source": [
    "numbers=[1,2,3,4,5,6,7,8,9,0]\n",
    "alphabets=['a', 'b', 'c', 'd', 'e', 'f', 'g', 'h', 'i', 'j', 'k', 'l', \n",
    " 'm', 'n', 'o', 'p', 'q', 'r', 's', 't', 'u', 'v', 'w', 'x', \n",
    " 'y', 'z','A', 'B', 'C', 'D', 'E', 'F', 'G', 'H', 'I', 'J', 'K', 'L', \n",
    " 'M', 'N', 'O', 'P', 'Q', 'R', 'S', 'T', 'U', 'V', 'W', 'X', \n",
    " 'Y', 'Z']\n",
    "special_chars=['!', '\"', '#', '$', '%', '&', \"'\", '(', ')', '*', '+', ',', '-', '.', '/', \n",
    " ':', ';', '<', '=', '>', '?', '@', '[', '\\\\', ']', '^', '_', '`', '{', '|', \n",
    " '}', '~']\n",
    "\n",
    "cap_alphabets=['A', 'B', 'C', 'D', 'E', 'F', 'G', 'H', 'I', 'J', 'K', 'L', \n",
    " 'M', 'N', 'O', 'P', 'Q', 'R', 'S', 'T', 'U', 'V', 'W', 'X', \n",
    " 'Y', 'Z']\n",
    "\n",
    "all_chars = numbers + alphabets + special_chars + cap_alphabets\n",
    "\n",
    "\n",
    "\n"
   ]
  },
  {
   "cell_type": "code",
   "execution_count": 5,
   "id": "3e04c02a-1a32-438d-bfd4-7623c8b9ea75",
   "metadata": {},
   "outputs": [
    {
     "name": "stdin",
     "output_type": "stream",
     "text": [
      "how many letters 4\n",
      "how many numbers 4\n",
      "how many special characters 4\n"
     ]
    }
   ],
   "source": [
    "no_of_letters=int(input(\"how many letters\"))\n",
    "no_of_nos=int(input(\"how many numbers\"))\n",
    "no_of_special_chars=int(input(\"how many special characters\"))        "
   ]
  },
  {
   "cell_type": "code",
   "execution_count": 9,
   "id": "621149ed-bf90-4393-a711-b9ad7c81da8a",
   "metadata": {
    "tags": []
   },
   "outputs": [],
   "source": [
    "pass_list=[]\n",
    "\n",
    "for char in range(0,no_of_letters):\n",
    "    pass_list.append(random.choice(alphabets))\n",
    "    \n",
    "for int in range(0,no_of_nos):\n",
    "    pass_list.append(random.choice(numbers))    \n",
    "    \n",
    "for char in range(0,no_of_special_chars):\n",
    "    pass_list.append(random.choice(special_chars))    \n",
    "        "
   ]
  },
  {
   "cell_type": "code",
   "execution_count": 10,
   "id": "dc4adaa8-8cf6-4cf3-810f-84ca61cfa9ba",
   "metadata": {
    "tags": []
   },
   "outputs": [],
   "source": [
    "random.shuffle(pass_list)"
   ]
  },
  {
   "cell_type": "code",
   "execution_count": 11,
   "id": "032d03eb-d215-45b4-8804-e197a7a3afc6",
   "metadata": {
    "tags": []
   },
   "outputs": [
    {
     "data": {
      "text/plain": [
       "['*', 3, '`', ',', 'A', 9, 'u', 2, 'D', 3, 'Z', '<']"
      ]
     },
     "execution_count": 11,
     "metadata": {},
     "output_type": "execute_result"
    }
   ],
   "source": [
    "pass_list"
   ]
  },
  {
   "cell_type": "code",
   "execution_count": null,
   "id": "641cce08-0586-4db9-b171-d135ef8e3be8",
   "metadata": {},
   "outputs": [],
   "source": []
  }
 ],
 "metadata": {
  "kernelspec": {
   "display_name": "Python 3 (ipykernel)",
   "language": "python",
   "name": "python3"
  },
  "language_info": {
   "codemirror_mode": {
    "name": "ipython",
    "version": 3
   },
   "file_extension": ".py",
   "mimetype": "text/x-python",
   "name": "python",
   "nbconvert_exporter": "python",
   "pygments_lexer": "ipython3",
   "version": "3.11.5"
  }
 },
 "nbformat": 4,
 "nbformat_minor": 5
}
